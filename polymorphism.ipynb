{
  "nbformat": 4,
  "nbformat_minor": 0,
  "metadata": {
    "colab": {
      "provenance": [],
      "authorship_tag": "ABX9TyO37ulVuBvRUs6k2S+rRINr",
      "include_colab_link": true
    },
    "kernelspec": {
      "name": "python3",
      "display_name": "Python 3"
    },
    "language_info": {
      "name": "python"
    }
  },
  "cells": [
    {
      "cell_type": "markdown",
      "metadata": {
        "id": "view-in-github",
        "colab_type": "text"
      },
      "source": [
        "<a href=\"https://colab.research.google.com/github/Devi2815/QuickStart-Website-Template/blob/main/polymorphism.ipynb\" target=\"_parent\"><img src=\"https://colab.research.google.com/assets/colab-badge.svg\" alt=\"Open In Colab\"/></a>"
      ]
    },
    {
      "cell_type": "code",
      "execution_count": 27,
      "metadata": {
        "colab": {
          "base_uri": "https://localhost:8080/"
        },
        "id": "XeXPiN8xSJUR",
        "outputId": "99d44392-4c92-4c2f-bfd4-7a4367237516"
      },
      "outputs": [
        {
          "output_type": "stream",
          "name": "stdout",
          "text": [
            "Benz\n",
            "swagon\n",
            "car is Moving\n",
            "duke\n",
            "yamaha\n",
            "riding\n"
          ]
        }
      ],
      "source": [
        "class Vehicel:\n",
        "  def __init__(self, brand, model):\n",
        "    self.brand = brand\n",
        "    self.model = model\n",
        "  def move(self):\n",
        "    print(\"Move!\")\n",
        "class bike(Vehicel):\n",
        "  def move(self):\n",
        "    print(\"riding\")\n",
        "class car(Vehicel):\n",
        "  def move(self):\n",
        "    print (\"car is Moving\")\n",
        "car1 = car(\"Benz\", \"swagon\")\n",
        "bike1 = bike(\"duke\", \"yamaha\")\n",
        "for x in (car1, bike1):\n",
        "  print(x.brand)\n",
        "  print(x.model)\n",
        "  x.move()\n",
        "\n",
        "\n",
        ""
      ]
    }
  ]
}